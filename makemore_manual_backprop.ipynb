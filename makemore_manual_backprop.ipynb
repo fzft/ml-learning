{
 "cells": [
  {
   "cell_type": "code",
   "execution_count": 163,
   "id": "initial_id",
   "metadata": {
    "collapsed": true,
    "ExecuteTime": {
     "end_time": "2023-11-05T08:29:27.410371Z",
     "start_time": "2023-11-05T08:29:26.948581Z"
    }
   },
   "outputs": [],
   "source": [
    "import torch\n",
    "\n",
    "words = open(\"names.txt\", \"r\").read().splitlines()\n",
    "chars = sorted(list(set(\"\".join(words))))\n",
    "stoi = {c: i for i, c in enumerate(chars)}\n",
    "stoi['.'] = 0\n",
    "itos = {i: c for c, i in stoi.items()}\n",
    "block_size = 3\n",
    "\n",
    "\n",
    "# build the dataset\n",
    "\n",
    "def build_dataset(words):\n",
    "    X, Y = [], []\n",
    "    for w in words:\n",
    "        context = [0] * block_size\n",
    "        for ch in w + '.':\n",
    "            ix = stoi[ch]\n",
    "            X.append(context)\n",
    "            Y.append(ix)\n",
    "            context = context[1:] + [ix]\n",
    "    return torch.tensor(X), torch.tensor(Y)\n",
    "\n",
    "\n",
    "import random\n",
    "\n",
    "random.seed(42)\n",
    "random.shuffle(words)\n",
    "n1 = int(len(words) * 0.8)\n",
    "n2 = int(len(words) * 0.9)\n",
    "\n",
    "Xtrain, Ytrain = build_dataset(words[:n1])\n",
    "Xdev, Ydev = build_dataset(words[n1:n2])\n",
    "Xtest, Ytest = build_dataset(words[n2:])"
   ]
  },
  {
   "cell_type": "code",
   "execution_count": 164,
   "outputs": [],
   "source": [
    "# utility functions\n",
    "def cmp(s, dt, t):\n",
    "    ex = torch.all(dt == t.grad).item()\n",
    "    app = torch.allclose(dt, t.grad)\n",
    "    maxdiff = (dt - t.grad).abs().max().item()\n",
    "    print(f\"{s}: {ex} {app} {maxdiff}\")"
   ],
   "metadata": {
    "collapsed": false,
    "ExecuteTime": {
     "end_time": "2023-11-05T08:29:27.414730Z",
     "start_time": "2023-11-05T08:29:27.409578Z"
    }
   },
   "id": "79454bf83a0ade3c"
  },
  {
   "cell_type": "code",
   "execution_count": 187,
   "outputs": [
    {
     "name": "stdout",
     "output_type": "stream",
     "text": [
      "[torch.Size([27, 10]), torch.Size([30, 64]), torch.Size([64]), torch.Size([64, 27]), torch.Size([27]), torch.Size([1, 64]), torch.Size([1, 64])]\n"
     ]
    }
   ],
   "source": [
    "n_embed = 10  # embedding dimension\n",
    "n_hidden = 64  # the number of the neurons in the hidden layer\n",
    "vocab_size = len(stoi)  # the size of the vocabulary\n",
    "\n",
    "g = torch.Generator().manual_seed(2147483647)\n",
    "C = torch.randn((vocab_size, n_embed), generator=g)\n",
    "\n",
    "# Layer 1\n",
    "W1 = torch.randn((n_embed * block_size, n_hidden), generator=g) * (5 / 3) / ((n_embed * block_size) ** 0.5)\n",
    "b1 = torch.randn((n_hidden,), generator=g) * 0.1\n",
    "\n",
    "# Layer 2\n",
    "W2 = torch.randn((n_hidden, vocab_size), generator=g) * .1\n",
    "b2 = torch.randn((vocab_size,), generator=g) * 0.1\n",
    "\n",
    "# BatchNorm parameters\n",
    "gamma = torch.randn((1, n_hidden), generator=g) * 0.1 + 1.0\n",
    "beta = torch.randn((1, n_hidden), generator=g) * 0.1\n",
    "\n",
    "params = [C, W1, b1, W2, b2, gamma, beta]\n",
    "print([p.shape for p in params])\n",
    "for p in params:\n",
    "    p.requires_grad_(True)\n",
    "\n"
   ],
   "metadata": {
    "collapsed": false,
    "ExecuteTime": {
     "end_time": "2023-11-05T09:40:54.761262Z",
     "start_time": "2023-11-05T09:40:54.756912Z"
    }
   },
   "id": "c06ca9ab774e4bfb"
  },
  {
   "cell_type": "code",
   "execution_count": 188,
   "outputs": [],
   "source": [
    "batch_size = 32\n",
    "ix = torch.randint(0, len(Xtrain), (batch_size,), generator=g)\n",
    "Xb, Yb = Xtrain[ix], Ytrain[ix]"
   ],
   "metadata": {
    "collapsed": false,
    "ExecuteTime": {
     "end_time": "2023-11-05T09:40:56.243236Z",
     "start_time": "2023-11-05T09:40:56.239728Z"
    }
   },
   "id": "5c7a3379b4eb698d"
  },
  {
   "cell_type": "code",
   "execution_count": 189,
   "outputs": [
    {
     "data": {
      "text/plain": "tensor(3.3584, grad_fn=<NegBackward0>)"
     },
     "execution_count": 189,
     "metadata": {},
     "output_type": "execute_result"
    }
   ],
   "source": [
    "emb = C[Xb]\n",
    "embcat = emb.view(emb.shape[0], -1)\n",
    "\n",
    "# Layer 1\n",
    "hprebn = embcat @ W1 + b1\n",
    "\n",
    "# BatchNorm\n",
    "bnmean1 = 1 / batch_size * hprebn.sum(0, keepdim=True)\n",
    "bndiff = hprebn - bnmean1\n",
    "bndiff2 = bndiff ** 2\n",
    "bnvar = 1 / (batch_size - 1) * bndiff2.sum(0, keepdim=True)\n",
    "bnvar_inv = (bnvar - 1e-5) ** (-0.5)\n",
    "bnraw = bndiff * bnvar_inv\n",
    "hpreact = gamma * bnraw + beta\n",
    "\n",
    "# Nonlinearity\n",
    "h = torch.tanh(hpreact)\n",
    "\n",
    "# Layer 2\n",
    "logits = h @ W2 + b2\n",
    "\n",
    "# Cross-entropy loss\n",
    "logits_max = logits.max(1, keepdim=True).values\n",
    "norm_logits = logits - logits_max  # for numerical stability\n",
    "counts = norm_logits.exp()\n",
    "counts_sum = counts.sum(1, keepdim=True)\n",
    "counts_sum_inv = counts_sum ** -1\n",
    "probs = counts * counts_sum_inv\n",
    "logprobs = probs.log()\n",
    "loss = -logprobs[range(batch_size), Yb].mean()\n",
    "\n",
    "# Pytorch backward pass\n",
    "for p in params:\n",
    "    p.grad = None\n",
    "for t in [logprobs, probs, counts, counts_sum, counts_sum_inv, norm_logits, logits_max, logits, h, hpreact, bnraw,gamma,beta,\n",
    "          bnvar_inv, bnvar, bndiff2, bndiff, bnmean1, hprebn, embcat, emb]:\n",
    "    t.retain_grad()\n",
    "loss.backward()\n",
    "loss"
   ],
   "metadata": {
    "collapsed": false,
    "ExecuteTime": {
     "end_time": "2023-11-05T09:40:57.949385Z",
     "start_time": "2023-11-05T09:40:57.939331Z"
    }
   },
   "id": "57bb3b987378f8ef"
  },
  {
   "cell_type": "code",
   "execution_count": 194,
   "outputs": [
    {
     "data": {
      "text/plain": "(torch.Size([32, 64]), torch.Size([1, 64]))"
     },
     "execution_count": 194,
     "metadata": {},
     "output_type": "execute_result"
    }
   ],
   "source": [
    "bndiff2.shape, dbnvar.shape"
   ],
   "metadata": {
    "collapsed": false,
    "ExecuteTime": {
     "end_time": "2023-11-05T10:03:13.246675Z",
     "start_time": "2023-11-05T10:03:13.238441Z"
    }
   },
   "id": "ccdb955c663da20"
  },
  {
   "cell_type": "code",
   "execution_count": 204,
   "outputs": [
    {
     "name": "stdout",
     "output_type": "stream",
     "text": [
      "logprobs: True True 0.0\n",
      "probs: True True 0.0\n",
      "counts_sum_inv: True True 0.0\n",
      "counts_sum: True True 0.0\n",
      "counts: True True 0.0\n",
      "norm_logits: True True 0.0\n",
      "logits_max: True True 0.0\n",
      "logits: True True 0.0\n",
      "h: True True 0.0\n",
      "dW2: True True 0.0\n",
      "db2: True True 0.0\n",
      "dhpreact: True True 0.0\n",
      "dgamma: True True 0.0\n",
      "dbeta: True True 0.0\n",
      "bnraw: True True 0.0\n",
      "dbnvar_inv: True True 0.0\n",
      "dbnvar: True True 0.0\n",
      "dbndiff2: True True 0.0\n",
      "dbndiff: True True 0.0\n",
      "dhprebn: True True 0.0\n",
      "dbnmean1: True True 0.0\n",
      "dembcat: True True 0.0\n",
      "dW1: True True 0.0\n",
      "db1: True True 0.0\n",
      "demb: True True 0.0\n",
      "dC: True True 0.0\n"
     ]
    }
   ],
   "source": [
    "dlogprobs = torch.zeros_like(logprobs)\n",
    "dlogprobs[range(batch_size), Yb] = -1.0 / batch_size\n",
    "dprobs = (1.0 / probs) * dlogprobs\n",
    "dcounts_sum_inv = (counts * dprobs).sum(1, keepdim=True)\n",
    "dcounts = counts_sum_inv * dprobs\n",
    "dcounts_sum = (-counts_sum ** - 2) * dcounts_sum_inv\n",
    "dcounts += torch.ones_like(counts) * dcounts_sum\n",
    "dnorm_logits = dcounts * norm_logits.exp()\n",
    "dlogits = dnorm_logits.clone() \n",
    "dlogits_max = (-dnorm_logits).sum(1, keepdim=True)\n",
    "dlogits += torch.nn.functional.one_hot(logits.max(1).indices, num_classes=vocab_size).float() * dlogits_max\n",
    "dh = dlogits @ W2.t()\n",
    "dW2 = h.t() @ dlogits\n",
    "db2 = dlogits.sum(0)\n",
    "dhpreact =  (1 - h**2) * dh\n",
    "dgamma = (bnraw * dhpreact).sum(0, keepdim=True)\n",
    "dbnraw = gamma * dhpreact\n",
    "bbeta = dhpreact.sum(0, keepdim=True)\n",
    "dbndiff = bnvar_inv * dbnraw\n",
    "dbnvar_inv = (bndiff * dbnraw).sum(0, keepdim=True)\n",
    "dbnvar = -0.5 * (bnvar - 1e-5) ** (-3/2) * dbnvar_inv\n",
    "dbndiff2 = 1 / (batch_size - 1) * torch.ones_like(bndiff2) * dbnvar\n",
    "dbndiff += 2 * bndiff * dbndiff2\n",
    "dhprebn = dbndiff.clone()\n",
    "dbnmean1 = -dhprebn.sum(0, keepdim=True)\n",
    "dhprebn += 1 / batch_size * torch.ones_like(hprebn) * dbnmean1\n",
    "dembcat = dhprebn @ W1.t()\n",
    "dW1 = embcat.t() @ dhprebn\n",
    "db1 = dhprebn.sum(0)\n",
    "demb = dembcat.view(emb.shape)\n",
    "\n",
    "dC = torch.zeros_like(C)\n",
    "for i in range(Xb.shape[0]):\n",
    "    for j in range(Xb.shape[1]):\n",
    "        dC[Xb[i, j]] += demb[i, j]\n",
    "\n",
    "\n",
    "cmp('logprobs', dlogprobs, logprobs)\n",
    "cmp('probs', dprobs, probs)\n",
    "cmp('counts_sum_inv', dcounts_sum_inv, counts_sum_inv)\n",
    "cmp('counts_sum', dcounts_sum, counts_sum)\n",
    "cmp('counts', dcounts, counts)\n",
    "cmp('norm_logits', dnorm_logits, norm_logits)\n",
    "cmp('logits_max', dlogits_max, logits_max)\n",
    "cmp('logits', dlogits, logits)\n",
    "cmp('h', dh, h)\n",
    "cmp('dW2', dW2, W2)\n",
    "cmp('db2', db2, b2)\n",
    "cmp('dhpreact', dhpreact, hpreact)\n",
    "cmp('dgamma', dgamma, gamma)\n",
    "cmp('dbeta', bbeta, beta)\n",
    "cmp('bnraw', dbnraw, bnraw)\n",
    "cmp('dbnvar_inv', dbnvar_inv, bnvar_inv)\n",
    "cmp('dbnvar', dbnvar, bnvar)\n",
    "cmp('dbndiff2', dbndiff2, bndiff2)\n",
    "cmp('dbndiff', dbndiff, bndiff)\n",
    "\n",
    "\n",
    "cmp('dhprebn', dhprebn, hprebn)\n",
    "cmp('dbnmean1', dbnmean1, bnmean1)\n",
    "cmp('dembcat', dembcat, embcat)\n",
    "cmp('dW1', dW1, W1)\n",
    "cmp('db1', db1, b1)\n",
    "cmp('demb', demb, emb)\n",
    "cmp('dC', dC, C)\n",
    "\n"
   ],
   "metadata": {
    "collapsed": false,
    "ExecuteTime": {
     "end_time": "2023-11-05T12:55:21.871851Z",
     "start_time": "2023-11-05T12:55:21.855116Z"
    }
   },
   "id": "ecb448607b999e2a"
  },
  {
   "cell_type": "code",
   "execution_count": 169,
   "outputs": [
    {
     "data": {
      "text/plain": "tensor(3.3584, grad_fn=<NllLossBackward0>)"
     },
     "execution_count": 169,
     "metadata": {},
     "output_type": "execute_result"
    }
   ],
   "source": [
    "import torch.nn.functional as F\n",
    "\n",
    "# now \n",
    "loss_fast = F.cross_entropy(logits, Yb)\n",
    "loss_fast"
   ],
   "metadata": {
    "collapsed": false,
    "ExecuteTime": {
     "end_time": "2023-11-05T08:29:27.453630Z",
     "start_time": "2023-11-05T08:29:27.450197Z"
    }
   },
   "id": "b2ba074d5b2b829e"
  }
 ],
 "metadata": {
  "kernelspec": {
   "display_name": "Python 3",
   "language": "python",
   "name": "python3"
  },
  "language_info": {
   "codemirror_mode": {
    "name": "ipython",
    "version": 2
   },
   "file_extension": ".py",
   "mimetype": "text/x-python",
   "name": "python",
   "nbconvert_exporter": "python",
   "pygments_lexer": "ipython2",
   "version": "2.7.6"
  }
 },
 "nbformat": 4,
 "nbformat_minor": 5
}
