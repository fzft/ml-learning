{
 "cells": [
  {
   "cell_type": "code",
   "execution_count": 71,
   "id": "initial_id",
   "metadata": {
    "collapsed": true,
    "ExecuteTime": {
     "end_time": "2023-11-06T08:23:03.402057Z",
     "start_time": "2023-11-06T08:23:02.829724Z"
    }
   },
   "outputs": [],
   "source": [
    "import torch\n",
    "\n",
    "words = open(\"names.txt\", \"r\").read().splitlines()\n",
    "chars = sorted(list(set(\"\".join(words))))\n",
    "stoi = {c: i for i, c in enumerate(chars)}\n",
    "stoi['.'] = 0\n",
    "itos = {i: c for c, i in stoi.items()}\n",
    "\n",
    "\n",
    "# build the dataset\n",
    "\n",
    "def build_dataset(words, block_size=8):\n",
    "    X, Y = [], []\n",
    "    for w in words:\n",
    "        context = [0] * block_size\n",
    "        for ch in w + '.':\n",
    "            ix = stoi[ch]\n",
    "            X.append(context)\n",
    "            Y.append(ix)\n",
    "            context = context[1:] + [ix]\n",
    "    return torch.tensor(X), torch.tensor(Y)\n",
    "\n",
    "\n",
    "import random\n",
    "\n",
    "random.seed(42)\n",
    "random.shuffle(words)\n",
    "n1 = int(len(words) * 0.8)\n",
    "n2 = int(len(words) * 0.9)\n",
    "\n",
    "Xtrain, Ytrain = build_dataset(words[:n1])\n",
    "Xdev, Ydev = build_dataset(words[n1:n2])\n",
    "Xtest, Ytest = build_dataset(words[n2:])"
   ]
  },
  {
   "cell_type": "code",
   "execution_count": 70,
   "outputs": [
    {
     "name": "stdout",
     "output_type": "stream",
     "text": [
      "........ y\n",
      ".......y u\n",
      "......yu h\n",
      ".....yuh e\n",
      "....yuhe n\n",
      "...yuhen g\n",
      "..yuheng .\n",
      "........ d\n",
      ".......d i\n",
      "......di o\n",
      ".....dio n\n",
      "....dion d\n",
      "...diond r\n",
      "..diondr e\n",
      ".diondre .\n",
      "........ x\n",
      ".......x .\n",
      "......x. v\n",
      ".....x.v i\n",
      "....x.vi e\n"
     ]
    }
   ],
   "source": [
    "for x, y in zip(Xtrain[:20], Ytrain[:20]):\n",
    "    print(\"\".join(itos[i.item()] for i in x), itos[y.item()])"
   ],
   "metadata": {
    "collapsed": false,
    "ExecuteTime": {
     "end_time": "2023-11-06T07:15:05.539702Z",
     "start_time": "2023-11-06T07:15:05.530716Z"
    }
   },
   "id": "e00beefc47d98f4c"
  },
  {
   "cell_type": "code",
   "execution_count": 77,
   "outputs": [
    {
     "name": "stdout",
     "output_type": "stream",
     "text": [
      "number of parameters: 76579\n"
     ]
    }
   ],
   "source": [
    "import torch\n",
    "\n",
    "g = torch.Generator().manual_seed(42)\n",
    "\n",
    "\n",
    "class Linear:\n",
    "    def __init__(self, fan_in, fan_out, bias=True):\n",
    "        self.W = torch.randn(fan_in, fan_out, generator=g) / fan_in ** 0.5\n",
    "        self.b = torch.zeros(fan_out) if bias else None\n",
    "\n",
    "    def __call__(self, x):\n",
    "        self.out = x @ self.W\n",
    "        if self.b is not None:\n",
    "            self.out += self.b\n",
    "        return self.out\n",
    "\n",
    "    def parameters(self):\n",
    "        return [self.W] + ([] if self.b is None else [self.b])\n",
    "\n",
    "\n",
    "class BatchNorm:\n",
    "    def __init__(self, n_in, eps=1e-5, momentum=0.1):\n",
    "        self.eps = eps\n",
    "        self.momentum = momentum\n",
    "        self.training = True\n",
    "        self.n_in = n_in\n",
    "        self.gamma = torch.ones(n_in)\n",
    "        self.beta = torch.zeros(n_in)\n",
    "        self.running_mean = torch.zeros(n_in)\n",
    "        self.running_var = torch.ones(n_in)\n",
    "\n",
    "    def __call__(self, x):\n",
    "        if self.training:\n",
    "            if x.ndim == 2:\n",
    "                dim = 0\n",
    "            elif x.ndim == 3:\n",
    "                dim = (0, 1)\n",
    "            else:\n",
    "                raise ValueError(\"expected 2D or 3D input (got {}D input)\".format(x.ndim))\n",
    "            xmean = x.mean(dim=dim, keepdim=True)\n",
    "            xvar = x.var(dim=dim, keepdim=True)\n",
    "        else:\n",
    "            xmean = self.running_mean\n",
    "            xvar = self.running_var\n",
    "        xhat = (x - xmean) / (xvar + self.eps) ** 0.5\n",
    "        self.out = self.gamma * xhat + self.beta\n",
    "        if self.training:\n",
    "            with torch.no_grad():\n",
    "                self.running_mean = self.momentum * xmean + (1 - self.momentum) * self.running_mean\n",
    "                self.running_var = self.momentum * xvar + (1 - self.momentum) * self.running_var\n",
    "        return self.out\n",
    "\n",
    "    def parameters(self):\n",
    "        return [self.gamma, self.beta]\n",
    "\n",
    "\n",
    "class Tanh:\n",
    "    def __call__(self, x):\n",
    "        self.out = torch.tanh(x)\n",
    "        return self.out\n",
    "\n",
    "    def parameters(self):\n",
    "        return []\n",
    "\n",
    "class Embedding:\n",
    "    \n",
    "    def __init__(self, num_embeddings, embedding_dim, padding_idx=None, max_norm=None,\n",
    "                 norm_type=2.0, scale_grad_by_freq=False, sparse=False, _weight=None):\n",
    "        self.weights = torch.randn(num_embeddings, embedding_dim, generator=g)\n",
    "        \n",
    "    def __call__(self, x):\n",
    "        self.out = self.weights[x]\n",
    "        return self.out\n",
    "    \n",
    "    def parameters(self):\n",
    "        return [self.weights]\n",
    "        \n",
    "class Flatten:\n",
    "    \n",
    "    def __init__(self, n):\n",
    "        self.n = n\n",
    "    \n",
    "    def __call__(self, x):\n",
    "        B, T, C = x.shape\n",
    "        x = x.view(B, T // self.n, C*self.n)\n",
    "        if x.shape[1] == 1:\n",
    "            x = x.squeeze(1)\n",
    "        self.out = x\n",
    "        return self.out\n",
    "    \n",
    "    def parameters(self):\n",
    "        return []\n",
    "    \n",
    "class Sequential:\n",
    "    \n",
    "    def __init__(self, layers):\n",
    "        self.layers = layers\n",
    "        \n",
    "    def __call__(self, x):\n",
    "        for layer in self.layers:\n",
    "            x = layer(x)\n",
    "        return x\n",
    "    \n",
    "    def parameters(self):\n",
    "        return [p for layer in self.layers for p in layer.parameters()]\n",
    "    \n",
    "n_embd = 24\n",
    "n_hidden = 128\n",
    "block_size = 8\n",
    "vocab_size = 27\n",
    "\n",
    "model = Sequential([\n",
    "    Embedding(vocab_size, n_embd),\n",
    "    Flatten(2),Linear(n_embd *2, n_hidden, bias=False), BatchNorm(n_hidden), Tanh(),\n",
    "    Flatten(2),Linear(n_hidden *2, n_hidden, bias=False), BatchNorm(n_hidden), Tanh(),\n",
    "    Flatten(2),Linear(n_hidden *2, n_hidden, bias=False), BatchNorm(n_hidden), Tanh(),\n",
    "    Linear(n_hidden, vocab_size)\n",
    "])\n",
    "\n",
    "with torch.no_grad():\n",
    "    # last layer: make less confident\n",
    "    model.layers[-1].W *= 0.1\n",
    "    for layer in model.layers[:-1]:\n",
    "        if isinstance(layer, Linear):\n",
    "            layer.W *= 5 / 3\n",
    "            if layer.b is not None:\n",
    "                layer.b.zero_()\n",
    "\n",
    "parameters = model.parameters()\n",
    "print(f\"number of parameters: {sum(p.numel() for p in parameters)}\")\n",
    "for p in parameters:\n",
    "    p.requires_grad_(True)"
   ],
   "metadata": {
    "collapsed": false,
    "ExecuteTime": {
     "end_time": "2023-11-06T08:42:41.678137Z",
     "start_time": "2023-11-06T08:42:41.668933Z"
    }
   },
   "id": "c5c0c644b7fe440d"
  },
  {
   "cell_type": "code",
   "execution_count": 78,
   "outputs": [
    {
     "name": "stdout",
     "output_type": "stream",
     "text": [
      "step = 0, loss = 3.306053638458252\n",
      "step = 1000, loss = 2.105940580368042\n",
      "step = 2000, loss = 2.4838509559631348\n",
      "step = 3000, loss = 2.028949737548828\n",
      "step = 4000, loss = 1.8574471473693848\n",
      "step = 5000, loss = 2.165806531906128\n",
      "step = 6000, loss = 2.3529350757598877\n",
      "step = 7000, loss = 1.754045844078064\n",
      "step = 8000, loss = 2.1484670639038086\n",
      "step = 9000, loss = 2.4413187503814697\n",
      "step = 10000, loss = 2.1495635509490967\n",
      "step = 11000, loss = 2.4444284439086914\n",
      "step = 12000, loss = 2.2164132595062256\n",
      "step = 13000, loss = 2.120452880859375\n",
      "step = 14000, loss = 1.9721102714538574\n",
      "step = 15000, loss = 1.7776589393615723\n",
      "step = 16000, loss = 2.108551025390625\n",
      "step = 17000, loss = 1.6686543226242065\n",
      "step = 18000, loss = 2.9140734672546387\n",
      "step = 19000, loss = 1.8099478483200073\n"
     ]
    }
   ],
   "source": [
    "max_steps = 20000\n",
    "batch_size = 32\n",
    "lossi = []\n",
    "ud = []\n",
    "\n",
    "for step in range(max_steps):\n",
    "    # sample a batch\n",
    "    i = torch.randint(0, Xtrain.shape[0], (batch_size,), generator=g)\n",
    "    xb, yb = Xtrain[i], Ytrain[i]\n",
    "    \n",
    "    # forward pass\n",
    "    logits = model(xb)\n",
    "    loss = torch.nn.functional.cross_entropy(logits, yb)\n",
    "\n",
    "    # backward pass\n",
    "    for layer in model.layers:\n",
    "        layer.out.retain_grad()\n",
    "\n",
    "    for p in parameters:\n",
    "        p.grad = None\n",
    "    loss.backward()\n",
    "\n",
    "    # update \n",
    "    lr = 0.1 if step < 10000 else 0.01\n",
    "    for p in parameters:\n",
    "        p.data -= lr * p.grad\n",
    "    if step % 1000 == 0:\n",
    "        print(f\"step = {step}, loss = {loss.item()}\")\n",
    "    with torch.no_grad():\n",
    "        ud.append([(lr * p.grad.std() / p.data.std()).log10().item() for p in parameters if p.grad is not None])\n",
    "    lossi.append(loss.item())"
   ],
   "metadata": {
    "collapsed": false,
    "ExecuteTime": {
     "end_time": "2023-11-06T08:46:26.596339Z",
     "start_time": "2023-11-06T08:42:46.427673Z"
    }
   },
   "id": "9a73a816ad1ea915"
  },
  {
   "cell_type": "code",
   "execution_count": 75,
   "outputs": [
    {
     "name": "stdout",
     "output_type": "stream",
     "text": [
      "Embedding torch.Size([32, 8, 10])\n",
      "Flatten torch.Size([32, 4, 20])\n",
      "Linear torch.Size([32, 4, 100])\n",
      "BatchNorm torch.Size([32, 4, 100])\n",
      "Tanh torch.Size([32, 4, 100])\n",
      "Flatten torch.Size([32, 2, 200])\n",
      "Linear torch.Size([32, 2, 100])\n",
      "BatchNorm torch.Size([32, 2, 100])\n",
      "Tanh torch.Size([32, 2, 100])\n",
      "Flatten torch.Size([32, 200])\n",
      "Linear torch.Size([32, 100])\n",
      "BatchNorm torch.Size([32, 100])\n",
      "Tanh torch.Size([32, 100])\n",
      "Linear torch.Size([32, 27])\n"
     ]
    }
   ],
   "source": [
    "for layer in model.layers:\n",
    "    print(layer.__class__.__name__, layer.out.shape)"
   ],
   "metadata": {
    "collapsed": false,
    "ExecuteTime": {
     "end_time": "2023-11-06T08:27:08.420604Z",
     "start_time": "2023-11-06T08:27:08.415945Z"
    }
   },
   "id": "56e2d641b4d59876"
  },
  {
   "cell_type": "code",
   "execution_count": 80,
   "outputs": [
    {
     "data": {
      "text/plain": "[<matplotlib.lines.Line2D at 0x7fdd081fc9a0>]"
     },
     "execution_count": 80,
     "metadata": {},
     "output_type": "execute_result"
    },
    {
     "data": {
      "text/plain": "<Figure size 640x480 with 1 Axes>",
      "image/png": "[encoded data removed]"
     },
     "metadata": {},
     "output_type": "display_data"
    }
   ],
   "source": [
    "import matplotlib.pyplot as plt\n",
    "plt.plot(torch.tensor(lossi).view(-1, 100).mean(dim=1))"
   ],
   "metadata": {
    "collapsed": false,
    "ExecuteTime": {
     "end_time": "2023-11-06T08:46:47.118453Z",
     "start_time": "2023-11-06T08:46:46.991860Z"
    }
   },
   "id": "264948812e1b71e6"
  },
  {
   "cell_type": "code",
   "execution_count": 13,
   "outputs": [],
   "source": [
    "# put layers into eval mode\n",
    "for layer in model.layers:\n",
    "    layer.training = False"
   ],
   "metadata": {
    "collapsed": false,
    "ExecuteTime": {
     "end_time": "2023-11-06T07:04:40.970465Z",
     "start_time": "2023-11-06T07:04:40.964798Z"
    }
   },
   "id": "e963a5aaf3f9ee1"
  },
  {
   "cell_type": "code",
   "execution_count": 79,
   "outputs": [
    {
     "name": "stdout",
     "output_type": "stream",
     "text": [
      "train 1.9949228763580322\n",
      "dev 2.032686471939087\n"
     ]
    }
   ],
   "source": [
    "# eval the loss\n",
    "\n",
    "@torch.no_grad()  # no gradient computation\n",
    "def split_loss(split):\n",
    "    x, y = {\n",
    "        'train': (Xtrain, Ytrain),\n",
    "        'dev': (Xdev, Ydev),\n",
    "        'test': (Xtest, Ytest)\n",
    "    }[split]\n",
    "    logits = model(x)\n",
    "    loss = torch.nn.functional.cross_entropy(logits, y)\n",
    "    print(split, loss.item())\n",
    "\n",
    "\n",
    "split_loss('train')\n",
    "split_loss('dev')"
   ],
   "metadata": {
    "collapsed": false,
    "ExecuteTime": {
     "end_time": "2023-11-06T08:46:32.355583Z",
     "start_time": "2023-11-06T08:46:30.855146Z"
    }
   },
   "id": "e30f018be0f0a70a"
  },
  {
   "cell_type": "code",
   "execution_count": 67,
   "outputs": [
    {
     "name": "stdout",
     "output_type": "stream",
     "text": [
      "len.\n",
      "joely.\n",
      "wish.\n",
      "mer.\n",
      "c.\n",
      "vri.\n",
      "zeco.\n",
      "h.\n",
      "p.\n",
      "or.\n",
      "s.\n",
      "me.\n",
      "y.\n",
      "d.\n",
      "bem.\n",
      "xeniv.\n",
      "ny.\n",
      "rjynyon.\n",
      "ri.\n",
      "jevi.\n"
     ]
    }
   ],
   "source": [
    "# sample from the model\n",
    "for _ in range(20):\n",
    "    out = []\n",
    "    context = [0] * block_size\n",
    "    while True:\n",
    "        logits = model(torch.tensor([context]))\n",
    "        p = torch.nn.functional.softmax(logits, dim=-1)\n",
    "        ix = torch.multinomial(p, 1).item()\n",
    "        context = context[1:] + [ix]\n",
    "        out.append(ix)\n",
    "        if ix == 0:\n",
    "            break\n",
    "    print(\"\".join(itos[i] for i in out))"
   ],
   "metadata": {
    "collapsed": false,
    "ExecuteTime": {
     "end_time": "2023-11-06T07:08:07.968225Z",
     "start_time": "2023-11-06T07:08:07.948941Z"
    }
   },
   "id": "ea46f532ea39255b"
  }
 ],
 "metadata": {
  "kernelspec": {
   "display_name": "Python 3",
   "language": "python",
   "name": "python3"
  },
  "language_info": {
   "codemirror_mode": {
    "name": "ipython",
    "version": 2
   },
   "file_extension": ".py",
   "mimetype": "text/x-python",
   "name": "python",
   "nbconvert_exporter": "python",
   "pygments_lexer": "ipython2",
   "version": "2.7.6"
  }
 },
 "nbformat": 4,
 "nbformat_minor": 5
}
