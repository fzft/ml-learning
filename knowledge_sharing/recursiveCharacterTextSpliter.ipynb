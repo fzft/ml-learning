{
 "cells": [
  {
   "cell_type": "code",
   "execution_count": 1,
   "id": "initial_id",
   "metadata": {
    "collapsed": true,
    "ExecuteTime": {
     "end_time": "2023-11-18T07:34:08.578066Z",
     "start_time": "2023-11-18T07:34:08.184723Z"
    }
   },
   "outputs": [],
   "source": [
    "import langchain\n",
    "from langchain.text_splitter import RecursiveCharacterTextSplitter"
   ]
  },
  {
   "cell_type": "code",
   "execution_count": 13,
   "outputs": [],
   "source": [
    "text = \"\"\" ChatGPT has now crossed the 100 million active monthly users mark.\n",
    "\n",
    "In Ilya’s case, he went as far as claiming that he honestly thought the product ‘wasn’t that good’.\n",
    "\n",
    "Nowadays, few people in this world don’t know what that 7-letter name means and many see Generative AI not only as a new frontier for AI but even as a new computer paradigm.\n",
    "\n",
    "But even though the product was amazing, you really couldn’t do much more than simply toy with it. It was a fun and bewildering thing to use and… that was pretty much it.\n",
    "\n",
    "To use it for real, valuable use cases like a knowledge management system — far and wide the most common enterprise Generative AI use case today — you required additional tools like vector databases.\n",
    "\n",
    "Also, when OpenAI released its first ChatGPT API, people soon realized how constrained the browser version was compared to the API one.\n",
    "\n",
    "It had a much smaller context window (the amount of words it can process for one request) and the opportunities for a more customized solution were almost non-existent.\n",
    "\n",
    "Long story short, unless you were a seasoned developer, ChatGPT was nothing more than a pastime product with some minor utility if you were willing to put on the effort and you had some tech savviness.\n",
    "\n",
    "\"\"\""
   ],
   "metadata": {
    "collapsed": false,
    "ExecuteTime": {
     "end_time": "2023-11-18T07:39:54.608465Z",
     "start_time": "2023-11-18T07:39:54.605146Z"
    }
   },
   "id": "8f5100c0f29852b2"
  },
  {
   "cell_type": "code",
   "execution_count": 3,
   "outputs": [
    {
     "data": {
      "text/plain": "'ChatGPT has now crossed the 100 million active monthly users mark.\\n\\nIn Ilya’s case, he went as far as claiming that he honestly thought the product ‘wasn’t that good’.\\n\\nNowadays, few people in this world don’t know what that 7-letter name means and many see Generative AI not only as a new frontier for AI but even as a new computer paradigm.\\n\\nBut even though the product was amazing, you really couldn’t do much more than simply toy with it. It was a fun and bewildering thing to use and… that was pretty much it.\\n\\nTo use it for real, valuable use cases like a knowledge management system — far and wide the most common enterprise Generative AI use case today — you required additional tools like vector databases.\\n\\nAlso, when OpenAI released its first ChatGPT API, people soon realized how constrained the browser version was compared to the API one.\\n\\nIt had a much smaller context window (the amount of words it can process for one request) and the opportunities for a more customized solution were almost non-existent.\\n\\nLong story short, unless you were a seasoned developer, ChatGPT was nothing more than a pastime product with some minor utility if you were willing to put on the effort and you had some tech savviness.\\n\\n'"
     },
     "execution_count": 3,
     "metadata": {},
     "output_type": "execute_result"
    }
   ],
   "source": [
    "text"
   ],
   "metadata": {
    "collapsed": false,
    "ExecuteTime": {
     "end_time": "2023-11-18T07:34:36.146086Z",
     "start_time": "2023-11-18T07:34:36.140193Z"
    }
   },
   "id": "9b64c03418e353a3"
  },
  {
   "cell_type": "code",
   "execution_count": 20,
   "outputs": [],
   "source": [
    "rec_text_splitter = RecursiveCharacterTextSplitter(\n",
    "    chunk_size=100,\n",
    "    chunk_overlap=0,\n",
    "    length_function=len\n",
    ")\n",
    "\n",
    "chunks = rec_text_splitter.split_text(text)"
   ],
   "metadata": {
    "collapsed": false,
    "ExecuteTime": {
     "end_time": "2023-11-18T07:40:29.979066Z",
     "start_time": "2023-11-18T07:40:29.976437Z"
    }
   },
   "id": "5d76a030f073d821"
  },
  {
   "cell_type": "code",
   "execution_count": 21,
   "outputs": [
    {
     "data": {
      "text/plain": "16"
     },
     "execution_count": 21,
     "metadata": {},
     "output_type": "execute_result"
    }
   ],
   "source": [
    "len(chunks)"
   ],
   "metadata": {
    "collapsed": false,
    "ExecuteTime": {
     "end_time": "2023-11-18T07:40:31.434369Z",
     "start_time": "2023-11-18T07:40:31.430820Z"
    }
   },
   "id": "f7f10634beb07b4e"
  },
  {
   "cell_type": "code",
   "execution_count": 22,
   "outputs": [
    {
     "name": "stdout",
     "output_type": "stream",
     "text": [
      "chunk # 0, size: 66, text: ChatGPT has now crossed the 100 million active monthly users mark.\n",
      "chunk # 1, size: 99, text: In Ilya’s case, he went as far as claiming that he honestly thought the product ‘wasn’t that good’.\n",
      "chunk # 2, size: 99, text: Nowadays, few people in this world don’t know what that 7-letter name means and many see Generative\n",
      "chunk # 3, size: 73, text: AI not only as a new frontier for AI but even as a new computer paradigm.\n",
      "chunk # 4, size: 98, text: But even though the product was amazing, you really couldn’t do much more than simply toy with it.\n",
      "chunk # 5, size: 71, text: It was a fun and bewildering thing to use and… that was pretty much it.\n",
      "chunk # 6, size: 97, text: To use it for real, valuable use cases like a knowledge management system — far and wide the most\n",
      "chunk # 7, size: 90, text: common enterprise Generative AI use case today — you required additional tools like vector\n",
      "chunk # 8, size: 10, text: databases.\n",
      "chunk # 9, size: 98, text: Also, when OpenAI released its first ChatGPT API, people soon realized how constrained the browser\n",
      "chunk # 10, size: 36, text: version was compared to the API one.\n",
      "chunk # 11, size: 97, text: It had a much smaller context window (the amount of words it can process for one request) and the\n",
      "chunk # 12, size: 70, text: opportunities for a more customized solution were almost non-existent.\n",
      "chunk # 13, size: 95, text: Long story short, unless you were a seasoned developer, ChatGPT was nothing more than a pastime\n",
      "chunk # 14, size: 94, text: product with some minor utility if you were willing to put on the effort and you had some tech\n",
      "chunk # 15, size: 10, text: savviness.\n"
     ]
    }
   ],
   "source": [
    "for i, _ in enumerate(chunks):\n",
    "    print(f'chunk # {i}, size: {len(chunks[i])}, text: {chunks[i]}')"
   ],
   "metadata": {
    "collapsed": false,
    "ExecuteTime": {
     "end_time": "2023-11-18T07:40:33.742551Z",
     "start_time": "2023-11-18T07:40:33.738424Z"
    }
   },
   "id": "1e05d3d6b05430ce"
  }
 ],
 "metadata": {
  "kernelspec": {
   "display_name": "Python 3",
   "language": "python",
   "name": "python3"
  },
  "language_info": {
   "codemirror_mode": {
    "name": "ipython",
    "version": 2
   },
   "file_extension": ".py",
   "mimetype": "text/x-python",
   "name": "python",
   "nbconvert_exporter": "python",
   "pygments_lexer": "ipython2",
   "version": "2.7.6"
  }
 },
 "nbformat": 4,
 "nbformat_minor": 5
}
