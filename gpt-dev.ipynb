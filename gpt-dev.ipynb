{
 "cells": [
  {
   "cell_type": "code",
   "execution_count": 7,
   "id": "initial_id",
   "metadata": {
    "collapsed": true,
    "ExecuteTime": {
     "end_time": "2023-10-11T13:07:27.454204Z",
     "start_time": "2023-10-11T13:07:27.450498Z"
    }
   },
   "outputs": [],
   "source": [
    "with open('input.txt', 'r', encoding='utf-8') as f:\n",
    "    text = f.read()"
   ]
  },
  {
   "cell_type": "code",
   "execution_count": 8,
   "outputs": [
    {
     "name": "stdout",
     "output_type": "stream",
     "text": [
      "len(text): 1115394\n"
     ]
    }
   ],
   "source": [
    "print(\"len(text):\", len(text))"
   ],
   "metadata": {
    "collapsed": false,
    "ExecuteTime": {
     "end_time": "2023-10-11T13:07:49.963499Z",
     "start_time": "2023-10-11T13:07:49.958331Z"
    }
   },
   "id": "73850c5ec8c20dcf"
  },
  {
   "cell_type": "code",
   "execution_count": 10,
   "outputs": [
    {
     "name": "stdout",
     "output_type": "stream",
     "text": [
      "text[:1000]: First Citizen:\n",
      "Before we proceed any further, hear me speak.\n",
      "\n",
      "All:\n",
      "Speak, speak.\n",
      "\n",
      "First Citizen:\n",
      "You are all resolved rather to die than to famish?\n",
      "\n",
      "All:\n",
      "Resolved. resolved.\n",
      "\n",
      "First Citizen:\n",
      "First, you know Caius Marcius is chief enemy to the people.\n",
      "\n",
      "All:\n",
      "We know't, we know't.\n",
      "\n",
      "First Citizen:\n",
      "Let us kill him, and we'll have corn at our own price.\n",
      "Is't a verdict?\n",
      "\n",
      "All:\n",
      "No more talking on't; let it be done: away, away!\n",
      "\n",
      "Second Citizen:\n",
      "One word, good citizens.\n",
      "\n",
      "First Citizen:\n",
      "We are accounted poor citizens, the patricians good.\n",
      "What authority surfeits on would relieve us: if they\n",
      "would yield us but the superfluity, while it were\n",
      "wholesome, we might guess they relieved us humanely;\n",
      "but they think we are too dear: the leanness that\n",
      "afflicts us, the object of our misery, is as an\n",
      "inventory to particularise their abundance; our\n",
      "sufferance is a gain to them Let us revenge this with\n",
      "our pikes, ere we become rakes: for the gods know I\n",
      "speak this in hunger for bread, not in thirst for revenge.\n"
     ]
    }
   ],
   "source": [
    "print(\"text[:1000]:\", text[:1000])"
   ],
   "metadata": {
    "collapsed": false,
    "ExecuteTime": {
     "end_time": "2023-10-11T13:09:53.848245Z",
     "start_time": "2023-10-11T13:09:53.842751Z"
    }
   },
   "id": "d85c253ae86a669a"
  },
  {
   "cell_type": "code",
   "execution_count": 12,
   "outputs": [
    {
     "name": "stdout",
     "output_type": "stream",
     "text": [
      "total chars: 65\n",
      "\n",
      " !$&',-.3:;?ABCDEFGHIJKLMNOPQRSTUVWXYZabcdefghijklmnopqrstuvwxyz\n"
     ]
    }
   ],
   "source": [
    "# here are all the unique characters in the file\n",
    "chars = sorted(list(set(text)))\n",
    "vocab_size = len(chars)\n",
    "print('total chars:', vocab_size)\n",
    "print(''.join(chars))"
   ],
   "metadata": {
    "collapsed": false,
    "ExecuteTime": {
     "end_time": "2023-10-11T13:12:56.476434Z",
     "start_time": "2023-10-11T13:12:56.472440Z"
    }
   },
   "id": "772708d28b61a150"
  },
  {
   "cell_type": "code",
   "execution_count": 13,
   "outputs": [
    {
     "name": "stdout",
     "output_type": "stream",
     "text": [
      "[46, 43, 50, 50, 53]\n",
      "hello\n"
     ]
    }
   ],
   "source": [
    "# create a mapping of unique chars to integers\n",
    "char_to_int = dict((c, i) for i, c in enumerate(chars))\n",
    "int_to_char = dict((i, c) for i, c in enumerate(chars))\n",
    "encode = lambda s: [char_to_int[c] for c in s] # encode: take a string and encode it to a list of ints\n",
    "decode = lambda x: ''.join([int_to_char[c] for c in x]) # decode: take a list of ints and decode it to a string\n",
    "\n",
    "print(encode('hello'))\n",
    "print(decode(encode('hello')))"
   ],
   "metadata": {
    "collapsed": false,
    "ExecuteTime": {
     "end_time": "2023-10-11T13:20:49.105525Z",
     "start_time": "2023-10-11T13:20:49.097561Z"
    }
   },
   "id": "8c1348fabff9720a"
  },
  {
   "cell_type": "code",
   "execution_count": 14,
   "outputs": [
    {
     "name": "stdout",
     "output_type": "stream",
     "text": [
      "torch.Size([1115394])\n",
      "tensor([18, 47, 56, 57, 58,  1, 15, 47, 58, 47, 64, 43, 52, 10,  0, 14, 43, 44,\n",
      "        53, 56, 43,  1, 61, 43,  1, 54, 56, 53, 41, 43, 43, 42,  1, 39, 52, 63,\n",
      "         1, 44, 59, 56, 58, 46, 43, 56,  6,  1, 46, 43, 39, 56,  1, 51, 43,  1,\n",
      "        57, 54, 43, 39, 49,  8,  0,  0, 13, 50, 50, 10,  0, 31, 54, 43, 39, 49,\n",
      "         6,  1, 57, 54, 43, 39, 49,  8,  0,  0, 18, 47, 56, 57, 58,  1, 15, 47,\n",
      "        58, 47, 64, 43, 52, 10,  0, 37, 53, 59])\n"
     ]
    }
   ],
   "source": [
    "import torch   \n",
    "data = torch.tensor(encode(text), dtype=torch.long)\n",
    "print(data.shape)\n",
    "print(data[:100])"
   ],
   "metadata": {
    "collapsed": false,
    "ExecuteTime": {
     "end_time": "2023-10-11T13:27:02.453581Z",
     "start_time": "2023-10-11T13:27:00.471139Z"
    }
   },
   "id": "9bc4963fb3bfe8d9"
  },
  {
   "cell_type": "code",
   "execution_count": 16,
   "outputs": [],
   "source": [
    "# Let's now split up the data into training and validation sets\n",
    "n = int(len(data) * 0.8)\n",
    "train_data = data[:n]\n",
    "val_data = data[n:]"
   ],
   "metadata": {
    "collapsed": false,
    "ExecuteTime": {
     "end_time": "2023-10-11T13:46:25.208058Z",
     "start_time": "2023-10-11T13:46:25.203972Z"
    }
   },
   "id": "bcff6c092388a3a7"
  },
  {
   "cell_type": "code",
   "execution_count": 17,
   "outputs": [
    {
     "data": {
      "text/plain": "tensor([18, 47, 56, 57, 58,  1, 15, 47, 58])"
     },
     "execution_count": 17,
     "metadata": {},
     "output_type": "execute_result"
    }
   ],
   "source": [
    "block_size = 8\n",
    "train_data[:block_size+1]\n"
   ],
   "metadata": {
    "collapsed": false,
    "ExecuteTime": {
     "end_time": "2023-10-11T13:46:27.051745Z",
     "start_time": "2023-10-11T13:46:27.045637Z"
    }
   },
   "id": "cad1a273bd6050dc"
  },
  {
   "cell_type": "code",
   "execution_count": 18,
   "outputs": [
    {
     "name": "stdout",
     "output_type": "stream",
     "text": [
      "when input is tensor([18]) the target is 47\n",
      "when input is tensor([18, 47]) the target is 56\n",
      "when input is tensor([18, 47, 56]) the target is 57\n",
      "when input is tensor([18, 47, 56, 57]) the target is 58\n",
      "when input is tensor([18, 47, 56, 57, 58]) the target is 1\n",
      "when input is tensor([18, 47, 56, 57, 58,  1]) the target is 15\n",
      "when input is tensor([18, 47, 56, 57, 58,  1, 15]) the target is 47\n",
      "when input is tensor([18, 47, 56, 57, 58,  1, 15, 47]) the target is 58\n"
     ]
    }
   ],
   "source": [
    "x = train_data[:block_size]\n",
    "y = train_data[1:block_size+1]\n",
    "for t in range(block_size):\n",
    "    context = x[:t+1]\n",
    "    target = y[t]\n",
    "    print(f'when input is {context} the target is {target}')"
   ],
   "metadata": {
    "collapsed": false,
    "ExecuteTime": {
     "end_time": "2023-10-11T13:50:53.786354Z",
     "start_time": "2023-10-11T13:50:53.781650Z"
    }
   },
   "id": "3273843ced53a4ca"
  },
  {
   "cell_type": "code",
   "execution_count": 32,
   "outputs": [
    {
     "name": "stdout",
     "output_type": "stream",
     "text": [
      "torch.Size([4, 8]) torch.Size([4, 8])\n",
      "tensor([[58, 63,  8,  0,  0, 19, 24, 27],\n",
      "        [39, 59, 45, 46, 58,  1, 46, 43],\n",
      "        [49, 43, 57,  1, 53, 50, 42,  1],\n",
      "        [52, 41, 47, 43, 52, 58,  1, 56]])\n",
      "tensor([[63,  8,  0,  0, 19, 24, 27, 33],\n",
      "        [59, 45, 46, 58,  1, 46, 43,  1],\n",
      "        [43, 57,  1, 53, 50, 42,  1, 46],\n",
      "        [41, 47, 43, 52, 58,  1, 56, 47]])\n",
      "------\n",
      "when input is tensor([58]) the target is 63\n",
      "when input is tensor([58, 63]) the target is 8\n",
      "when input is tensor([58, 63,  8]) the target is 0\n",
      "when input is tensor([58, 63,  8,  0]) the target is 0\n",
      "when input is tensor([58, 63,  8,  0,  0]) the target is 19\n",
      "when input is tensor([58, 63,  8,  0,  0, 19]) the target is 24\n",
      "when input is tensor([58, 63,  8,  0,  0, 19, 24]) the target is 27\n",
      "when input is tensor([58, 63,  8,  0,  0, 19, 24, 27]) the target is 33\n",
      "when input is tensor([39]) the target is 59\n",
      "when input is tensor([39, 59]) the target is 45\n",
      "when input is tensor([39, 59, 45]) the target is 46\n",
      "when input is tensor([39, 59, 45, 46]) the target is 58\n",
      "when input is tensor([39, 59, 45, 46, 58]) the target is 1\n",
      "when input is tensor([39, 59, 45, 46, 58,  1]) the target is 46\n",
      "when input is tensor([39, 59, 45, 46, 58,  1, 46]) the target is 43\n",
      "when input is tensor([39, 59, 45, 46, 58,  1, 46, 43]) the target is 1\n",
      "when input is tensor([49]) the target is 43\n",
      "when input is tensor([49, 43]) the target is 57\n",
      "when input is tensor([49, 43, 57]) the target is 1\n",
      "when input is tensor([49, 43, 57,  1]) the target is 53\n",
      "when input is tensor([49, 43, 57,  1, 53]) the target is 50\n",
      "when input is tensor([49, 43, 57,  1, 53, 50]) the target is 42\n",
      "when input is tensor([49, 43, 57,  1, 53, 50, 42]) the target is 1\n",
      "when input is tensor([49, 43, 57,  1, 53, 50, 42,  1]) the target is 46\n",
      "when input is tensor([52]) the target is 41\n",
      "when input is tensor([52, 41]) the target is 47\n",
      "when input is tensor([52, 41, 47]) the target is 43\n",
      "when input is tensor([52, 41, 47, 43]) the target is 52\n",
      "when input is tensor([52, 41, 47, 43, 52]) the target is 58\n",
      "when input is tensor([52, 41, 47, 43, 52, 58]) the target is 1\n",
      "when input is tensor([52, 41, 47, 43, 52, 58,  1]) the target is 56\n",
      "when input is tensor([52, 41, 47, 43, 52, 58,  1, 56]) the target is 47\n"
     ]
    }
   ],
   "source": [
    "torch.manual_seed(1337)\n",
    "batch_size = 4 # number of sequences in a mini-batch\n",
    "block_size = 8 # what is the maximum context length for predicting the next character\n",
    "\n",
    "def get_batch(split):\n",
    "    data = train_data if split == 'train' else val_data\n",
    "    ix = torch.randint(0, len(data) - block_size, (batch_size,))\n",
    "    x = torch.stack([data[i:i+block_size] for i in ix])\n",
    "    y = torch.stack([data[i+1:i+block_size+1] for i in ix])\n",
    "    return x, y\n",
    "\n",
    "xb, yb = get_batch('train')\n",
    "print(xb.shape, yb.shape)\n",
    "print(xb)\n",
    "print(yb)\n",
    "print('------')\n",
    "\n",
    "for b in range(batch_size):\n",
    "    for t in range(block_size):\n",
    "        context = xb[b, :t+1]\n",
    "        target = yb[b, t]\n",
    "        print(f'when input is {context} the target is {target}')"
   ],
   "metadata": {
    "collapsed": false,
    "ExecuteTime": {
     "end_time": "2023-10-12T13:15:11.499285Z",
     "start_time": "2023-10-12T13:15:11.486936Z"
    }
   },
   "id": "3b95f9f19a5be53a"
  },
  {
   "cell_type": "code",
   "execution_count": 33,
   "outputs": [
    {
     "name": "stdout",
     "output_type": "stream",
     "text": [
      "torch.Size([4, 8, 65])\n"
     ]
    }
   ],
   "source": [
    "import torch\n",
    "import torch.nn as nn\n",
    "import torch.nn.functional as F\n",
    "torch.manual_seed(1337)\n",
    "\n",
    "class BigramLanguageModel(nn.Module):\n",
    "    def __init__(self, vocab_size):\n",
    "        super().__init__()\n",
    "        self.embedding = nn.Embedding(vocab_size, vocab_size)\n",
    "        \n",
    "    def forward(self, idx, targets):\n",
    "        # idx and targets are both of shape (batch_size, block_size)\n",
    "        logits = self.embedding(idx) # shape: (batch_size, block_size, vocab_size)\n",
    "        return logits\n",
    "    \n",
    "m = BigramLanguageModel(vocab_size)\n",
    "out = m(xb, yb)\n",
    "print(out.shape)"
   ],
   "metadata": {
    "collapsed": false,
    "ExecuteTime": {
     "end_time": "2023-10-12T13:20:43.187013Z",
     "start_time": "2023-10-12T13:20:43.174179Z"
    }
   },
   "id": "3dbf39fb9dfef9c4"
  }
 ],
 "metadata": {
  "kernelspec": {
   "display_name": "Python 3",
   "language": "python",
   "name": "python3"
  },
  "language_info": {
   "codemirror_mode": {
    "name": "ipython",
    "version": 2
   },
   "file_extension": ".py",
   "mimetype": "text/x-python",
   "name": "python",
   "nbconvert_exporter": "python",
   "pygments_lexer": "ipython2",
   "version": "2.7.6"
  }
 },
 "nbformat": 4,
 "nbformat_minor": 5
}
