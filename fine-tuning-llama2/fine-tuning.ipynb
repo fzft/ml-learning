{
 "cells": [
  {
   "cell_type": "code",
   "execution_count": 34,
   "id": "initial_id",
   "metadata": {
    "collapsed": true,
    "ExecuteTime": {
     "end_time": "2023-12-22T03:20:44.461111Z",
     "start_time": "2023-12-22T03:20:44.457807Z"
    }
   },
   "outputs": [],
   "source": [
    "import os\n",
    "import torch\n",
    "from datasets import load_dataset\n",
    "from transformers import (\n",
    "    AutoModelForCausalLM,\n",
    "    AutoTokenizer,\n",
    "    BitsAndBytesConfig,\n",
    "    TrainingArguments,\n",
    "    pipeline\n",
    ")\n",
    "\n",
    "from peft import LoraConfig, PeftModel, prepare_model_for_kbit_training\n",
    "from trl import SFTTrainer"
   ]
  },
  {
   "cell_type": "code",
   "execution_count": 36,
   "outputs": [],
   "source": [
    "base_model = \"NousResearch/Llama-2-7b-hf\"\n",
    "new_model = \"llama-2-7b-miniplatypus\"\n",
    "\n",
    "dataset = load_dataset(\"mlabonne/mini-platypus\", split=\"train\")\n",
    "tokenizer = AutoTokenizer.from_pretrained(base_model, use_fast=True)\n",
    "tokenizer.pad_token = tokenizer.unk_token\n",
    "tokenizer.padding_side = \"right\"\n"
   ],
   "metadata": {
    "collapsed": false,
    "ExecuteTime": {
     "end_time": "2023-12-22T03:21:43.571545Z",
     "start_time": "2023-12-22T03:21:38.537796Z"
    }
   },
   "id": "519059d6135f3366"
  },
  {
   "cell_type": "code",
   "execution_count": 1,
   "outputs": [
    {
     "name": "stdout",
     "output_type": "stream",
     "text": [
      "Scale: 1.600000023841858, Zero-Point: 8.0\n"
     ]
    }
   ],
   "source": [
    "import torch\n",
    "\n",
    "# Example tensor x with shape (B, T, C)\n",
    "x = torch.tensor([[[1.0, 2.0, 3.0, 4.0], \n",
    "                   [5.0, 6.0, 7.0, 8.0], \n",
    "                   [9.0, 10.0, 11.0, 12.0]],\n",
    "\n",
    "                  [[-1.0, -2.0, -3.0, -4.0], \n",
    "                   [-5.0, -6.0, -7.0, -8.0], \n",
    "                   [-9.0, -10.0, -11.0, -12.0]]])\n",
    "\n",
    "# Parameters\n",
    "maxq = 15\n",
    "sym = True\n",
    "\n",
    "# Finding xmin and xmax\n",
    "xmin, xmax = x.min(), x.max()\n",
    "\n",
    "# Symmetric quantization adjustments\n",
    "if sym:\n",
    "    xmax = max(abs(xmin), xmax)\n",
    "    xmin = -xmax\n",
    "\n",
    "# Calculate scale and zero-point\n",
    "scale = (xmax - xmin) / maxq\n",
    "zero = (maxq + 1) / 2 if sym else round(-xmin / scale)\n",
    "\n",
    "print(f\"Scale: {scale}, Zero-Point: {zero}\")\n"
   ],
   "metadata": {
    "collapsed": false,
    "ExecuteTime": {
     "end_time": "2024-01-05T06:42:26.901634Z",
     "start_time": "2024-01-05T06:42:25.822979Z"
    }
   },
   "id": "f8bf4b74104206ae"
  },
  {
   "cell_type": "code",
   "execution_count": 46,
   "outputs": [
    {
     "name": "stdout",
     "output_type": "stream",
     "text": [
      "MPS is available and will be used.\n"
     ]
    },
    {
     "ename": "ImportError",
     "evalue": "Using `load_in_8bit=True` requires Accelerate: `pip install accelerate` and the latest version of bitsandbytes `pip install -i https://test.pypi.org/simple/ bitsandbytes` or pip install bitsandbytes` ",
     "output_type": "error",
     "traceback": [
      "\u001B[0;31m---------------------------------------------------------------------------\u001B[0m",
      "\u001B[0;31mImportError\u001B[0m                               Traceback (most recent call last)",
      "Cell \u001B[0;32mIn[46], line 31\u001B[0m\n\u001B[1;32m     28\u001B[0m     device \u001B[38;5;241m=\u001B[39m \u001B[38;5;124m'\u001B[39m\u001B[38;5;124mmps\u001B[39m\u001B[38;5;124m'\u001B[39m\n\u001B[1;32m     29\u001B[0m     \u001B[38;5;28mprint\u001B[39m(\u001B[38;5;124m\"\u001B[39m\u001B[38;5;124mMPS is available and will be used.\u001B[39m\u001B[38;5;124m\"\u001B[39m)\n\u001B[0;32m---> 31\u001B[0m model \u001B[38;5;241m=\u001B[39m \u001B[43mAutoModelForCausalLM\u001B[49m\u001B[38;5;241;43m.\u001B[39;49m\u001B[43mfrom_pretrained\u001B[49m\u001B[43m(\u001B[49m\u001B[43mbase_model\u001B[49m\u001B[43m,\u001B[49m\u001B[43m \u001B[49m\u001B[43mquantization_config\u001B[49m\u001B[38;5;241;43m=\u001B[39;49m\u001B[43mbnb_config\u001B[49m\u001B[43m,\u001B[49m\u001B[43m \u001B[49m\u001B[43mload_in_8bit\u001B[49m\u001B[38;5;241;43m=\u001B[39;49m\u001B[38;5;28;43;01mFalse\u001B[39;49;00m\u001B[43m,\u001B[49m\u001B[43m \u001B[49m\u001B[43mdevice_map\u001B[49m\u001B[38;5;241;43m=\u001B[39;49m\u001B[43mdevice\u001B[49m\u001B[43m)\u001B[49m\n\u001B[1;32m     33\u001B[0m model \u001B[38;5;241m=\u001B[39m prepare_model_for_kbit_training(\n\u001B[1;32m     34\u001B[0m     model\n\u001B[1;32m     35\u001B[0m )\n",
      "File \u001B[0;32m~/anaconda3/envs/micrograd_from_scratch/lib/python3.9/site-packages/transformers/models/auto/auto_factory.py:565\u001B[0m, in \u001B[0;36m_BaseAutoModelClass.from_pretrained\u001B[0;34m(cls, pretrained_model_name_or_path, *model_args, **kwargs)\u001B[0m\n\u001B[1;32m    563\u001B[0m \u001B[38;5;28;01melif\u001B[39;00m \u001B[38;5;28mtype\u001B[39m(config) \u001B[38;5;129;01min\u001B[39;00m \u001B[38;5;28mcls\u001B[39m\u001B[38;5;241m.\u001B[39m_model_mapping\u001B[38;5;241m.\u001B[39mkeys():\n\u001B[1;32m    564\u001B[0m     model_class \u001B[38;5;241m=\u001B[39m _get_model_class(config, \u001B[38;5;28mcls\u001B[39m\u001B[38;5;241m.\u001B[39m_model_mapping)\n\u001B[0;32m--> 565\u001B[0m     \u001B[38;5;28;01mreturn\u001B[39;00m \u001B[43mmodel_class\u001B[49m\u001B[38;5;241;43m.\u001B[39;49m\u001B[43mfrom_pretrained\u001B[49m\u001B[43m(\u001B[49m\n\u001B[1;32m    566\u001B[0m \u001B[43m        \u001B[49m\u001B[43mpretrained_model_name_or_path\u001B[49m\u001B[43m,\u001B[49m\u001B[43m \u001B[49m\u001B[38;5;241;43m*\u001B[39;49m\u001B[43mmodel_args\u001B[49m\u001B[43m,\u001B[49m\u001B[43m \u001B[49m\u001B[43mconfig\u001B[49m\u001B[38;5;241;43m=\u001B[39;49m\u001B[43mconfig\u001B[49m\u001B[43m,\u001B[49m\u001B[43m \u001B[49m\u001B[38;5;241;43m*\u001B[39;49m\u001B[38;5;241;43m*\u001B[39;49m\u001B[43mhub_kwargs\u001B[49m\u001B[43m,\u001B[49m\u001B[43m \u001B[49m\u001B[38;5;241;43m*\u001B[39;49m\u001B[38;5;241;43m*\u001B[39;49m\u001B[43mkwargs\u001B[49m\n\u001B[1;32m    567\u001B[0m \u001B[43m    \u001B[49m\u001B[43m)\u001B[49m\n\u001B[1;32m    568\u001B[0m \u001B[38;5;28;01mraise\u001B[39;00m \u001B[38;5;167;01mValueError\u001B[39;00m(\n\u001B[1;32m    569\u001B[0m     \u001B[38;5;124mf\u001B[39m\u001B[38;5;124m\"\u001B[39m\u001B[38;5;124mUnrecognized configuration class \u001B[39m\u001B[38;5;132;01m{\u001B[39;00mconfig\u001B[38;5;241m.\u001B[39m\u001B[38;5;18m__class__\u001B[39m\u001B[38;5;132;01m}\u001B[39;00m\u001B[38;5;124m for this kind of AutoModel: \u001B[39m\u001B[38;5;132;01m{\u001B[39;00m\u001B[38;5;28mcls\u001B[39m\u001B[38;5;241m.\u001B[39m\u001B[38;5;18m__name__\u001B[39m\u001B[38;5;132;01m}\u001B[39;00m\u001B[38;5;124m.\u001B[39m\u001B[38;5;130;01m\\n\u001B[39;00m\u001B[38;5;124m\"\u001B[39m\n\u001B[1;32m    570\u001B[0m     \u001B[38;5;124mf\u001B[39m\u001B[38;5;124m\"\u001B[39m\u001B[38;5;124mModel type should be one of \u001B[39m\u001B[38;5;132;01m{\u001B[39;00m\u001B[38;5;124m'\u001B[39m\u001B[38;5;124m, \u001B[39m\u001B[38;5;124m'\u001B[39m\u001B[38;5;241m.\u001B[39mjoin(c\u001B[38;5;241m.\u001B[39m\u001B[38;5;18m__name__\u001B[39m\u001B[38;5;250m \u001B[39m\u001B[38;5;28;01mfor\u001B[39;00m\u001B[38;5;250m \u001B[39mc\u001B[38;5;250m \u001B[39m\u001B[38;5;129;01min\u001B[39;00m\u001B[38;5;250m \u001B[39m\u001B[38;5;28mcls\u001B[39m\u001B[38;5;241m.\u001B[39m_model_mapping\u001B[38;5;241m.\u001B[39mkeys())\u001B[38;5;132;01m}\u001B[39;00m\u001B[38;5;124m.\u001B[39m\u001B[38;5;124m\"\u001B[39m\n\u001B[1;32m    571\u001B[0m )\n",
      "File \u001B[0;32m~/anaconda3/envs/micrograd_from_scratch/lib/python3.9/site-packages/transformers/modeling_utils.py:2614\u001B[0m, in \u001B[0;36mPreTrainedModel.from_pretrained\u001B[0;34m(cls, pretrained_model_name_or_path, config, cache_dir, ignore_mismatched_sizes, force_download, local_files_only, token, revision, use_safetensors, *model_args, **kwargs)\u001B[0m\n\u001B[1;32m   2612\u001B[0m \u001B[38;5;28;01mif\u001B[39;00m load_in_8bit \u001B[38;5;129;01mor\u001B[39;00m load_in_4bit:\n\u001B[1;32m   2613\u001B[0m     \u001B[38;5;28;01mif\u001B[39;00m \u001B[38;5;129;01mnot\u001B[39;00m (is_accelerate_available() \u001B[38;5;129;01mand\u001B[39;00m is_bitsandbytes_available()):\n\u001B[0;32m-> 2614\u001B[0m         \u001B[38;5;28;01mraise\u001B[39;00m \u001B[38;5;167;01mImportError\u001B[39;00m(\n\u001B[1;32m   2615\u001B[0m             \u001B[38;5;124m\"\u001B[39m\u001B[38;5;124mUsing `load_in_8bit=True` requires Accelerate: `pip install accelerate` and the latest version of\u001B[39m\u001B[38;5;124m\"\u001B[39m\n\u001B[1;32m   2616\u001B[0m             \u001B[38;5;124m\"\u001B[39m\u001B[38;5;124m bitsandbytes `pip install -i https://test.pypi.org/simple/ bitsandbytes` or\u001B[39m\u001B[38;5;124m\"\u001B[39m\n\u001B[1;32m   2617\u001B[0m             \u001B[38;5;124m\"\u001B[39m\u001B[38;5;124m pip install bitsandbytes` \u001B[39m\u001B[38;5;124m\"\u001B[39m\n\u001B[1;32m   2618\u001B[0m         )\n\u001B[1;32m   2620\u001B[0m     \u001B[38;5;28;01mif\u001B[39;00m torch_dtype \u001B[38;5;129;01mis\u001B[39;00m \u001B[38;5;28;01mNone\u001B[39;00m:\n\u001B[1;32m   2621\u001B[0m         \u001B[38;5;66;03m# We force the `dtype` to be float16, this is a requirement from `bitsandbytes`\u001B[39;00m\n\u001B[1;32m   2622\u001B[0m         logger\u001B[38;5;241m.\u001B[39minfo(\n\u001B[1;32m   2623\u001B[0m             \u001B[38;5;124mf\u001B[39m\u001B[38;5;124m\"\u001B[39m\u001B[38;5;124mOverriding torch_dtype=\u001B[39m\u001B[38;5;132;01m{\u001B[39;00mtorch_dtype\u001B[38;5;132;01m}\u001B[39;00m\u001B[38;5;124m with `torch_dtype=torch.float16` due to \u001B[39m\u001B[38;5;124m\"\u001B[39m\n\u001B[1;32m   2624\u001B[0m             \u001B[38;5;124m\"\u001B[39m\u001B[38;5;124mrequirements of `bitsandbytes` to enable model loading in 8-bit or 4-bit. \u001B[39m\u001B[38;5;124m\"\u001B[39m\n\u001B[1;32m   2625\u001B[0m             \u001B[38;5;124m\"\u001B[39m\u001B[38;5;124mPass your own torch_dtype to specify the dtype of the remaining non-linear layers or pass\u001B[39m\u001B[38;5;124m\"\u001B[39m\n\u001B[1;32m   2626\u001B[0m             \u001B[38;5;124m\"\u001B[39m\u001B[38;5;124m torch_dtype=torch.float16 to remove this warning.\u001B[39m\u001B[38;5;124m\"\u001B[39m\n\u001B[1;32m   2627\u001B[0m         )\n",
      "\u001B[0;31mImportError\u001B[0m: Using `load_in_8bit=True` requires Accelerate: `pip install accelerate` and the latest version of bitsandbytes `pip install -i https://test.pypi.org/simple/ bitsandbytes` or pip install bitsandbytes` "
     ]
    }
   ],
   "source": [
    "bnb_config = BitsAndBytesConfig(\n",
    "    load_in_4bit=True,\n",
    "    bnb_4bit_quant_type=\"nf4\",\n",
    "    bnb_4bit_compute_dtype=torch.float16,\n",
    "    bnb_4bit_use_double_quant=True,\n",
    ")\n",
    "\n",
    "peft_config = LoraConfig(\n",
    "    lora_alpha=32,\n",
    "    lora_dropout=.05,\n",
    "    r=16,\n",
    "    bias=\"none\",\n",
    "    task_type=\"CAUSAL_LM\",\n",
    "    target_modules=[\"up_proj\", \"down_proj\", 'gate_proj', 'k_proj', 'v_proj', 'q_proj', 'o_proj'],\n",
    ")\n",
    "\n",
    "import torch\n",
    "\n",
    "if not torch.backends.mps.is_available():\n",
    "    if not torch.backends.mps.is_built():\n",
    "        print(\"MPS not available because the current PyTorch install was not \"\n",
    "              \"built with MPS enabled.\")\n",
    "    else:\n",
    "        print(\"MPS not available because the current MacOS version is not 12.3+ \"\n",
    "              \"and/or you do not have an MPS-enabled device on this machine.\")\n",
    "    device = 'cuda' if torch.cuda.is_available() else 'cpu'\n",
    "else:\n",
    "    device = 'mps'\n",
    "    print(\"MPS is available and will be used.\")\n",
    "\n",
    "model = AutoModelForCausalLM.from_pretrained(base_model, quantization_config=bnb_config, load_in_8bit=False, device_map=device)\n",
    "\n",
    "model = prepare_model_for_kbit_training(\n",
    "    model\n",
    ")"
   ],
   "metadata": {
    "collapsed": false,
    "ExecuteTime": {
     "end_time": "2023-12-22T08:05:45.318149Z",
     "start_time": "2023-12-22T08:05:44.797246Z"
    }
   },
   "id": "a224f26ee1014ca8"
  }
 ],
 "metadata": {
  "kernelspec": {
   "display_name": "Python 3",
   "language": "python",
   "name": "python3"
  },
  "language_info": {
   "codemirror_mode": {
    "name": "ipython",
    "version": 2
   },
   "file_extension": ".py",
   "mimetype": "text/x-python",
   "name": "python",
   "nbconvert_exporter": "python",
   "pygments_lexer": "ipython2",
   "version": "2.7.6"
  }
 },
 "nbformat": 4,
 "nbformat_minor": 5
}
