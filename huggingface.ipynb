{
 "cells": [
  {
   "cell_type": "code",
   "execution_count": null,
   "id": "initial_id",
   "metadata": {
    "collapsed": true
   },
   "outputs": [],
   "source": []
  },
  {
   "cell_type": "code",
   "execution_count": 6,
   "outputs": [
    {
     "name": "stdout",
     "output_type": "stream",
     "text": [
      "Model Name: TheBloke/Llama-2-7b-chat-fp16, Tags: ['transformers', 'pytorch', 'safetensors', 'llama', 'text-generation', 'facebook', 'meta', 'llama-2', 'en', 'arxiv:2307.09288', 'has_space', 'text-generation-inference', 'region:us'], Task: text-generation\n",
      "Model Name: steerapi/TheBloke-Llama-2-7b-chat-fp16-w8-g128, Tags: ['transformers', 'onnx', 'llama', 'text-generation', 'endpoints_compatible', 'text-generation-inference', 'region:us'], Task: text-generation\n",
      "Model Name: steerapi/TheBloke-Llama-2-7b-chat-fp16-w8-g128int8, Tags: ['transformers', 'onnx', 'llama', 'text-generation', 'endpoints_compatible', 'text-generation-inference', 'region:us'], Task: text-generation\n"
     ]
    }
   ],
   "source": [
    "from huggingface_hub import HfApi, ModelFilter\n",
    "api = HfApi()\n",
    "filt = ModelFilter(\n",
    "    model_name='TheBloke/Llama-2-7b-chat-fp16'\n",
    ")\n",
    "models = api.list_models(filter=filt)\n",
    "models\n",
    "for model in models:\n",
    "    print(model)"
   ],
   "metadata": {
    "collapsed": false,
    "ExecuteTime": {
     "end_time": "2023-10-09T08:28:21.472516Z",
     "start_time": "2023-10-09T08:28:19.923437Z"
    }
   },
   "id": "1d5b4a371d969898"
  }
 ],
 "metadata": {
  "kernelspec": {
   "display_name": "Python 3",
   "language": "python",
   "name": "python3"
  },
  "language_info": {
   "codemirror_mode": {
    "name": "ipython",
    "version": 2
   },
   "file_extension": ".py",
   "mimetype": "text/x-python",
   "name": "python",
   "nbconvert_exporter": "python",
   "pygments_lexer": "ipython2",
   "version": "2.7.6"
  }
 },
 "nbformat": 4,
 "nbformat_minor": 5
}
